{
 "cells": [
  {
   "cell_type": "code",
   "execution_count": 1,
   "id": "b5b2be66",
   "metadata": {},
   "outputs": [
    {
     "name": "stdout",
     "output_type": "stream",
     "text": [
      "Hello World\n"
     ]
    }
   ],
   "source": [
    "print(\"Hello World\")"
   ]
  },
  {
   "cell_type": "markdown",
   "id": "e603605c",
   "metadata": {},
   "source": [
    "# This is a markdown cell\n",
    "\n",
    "with e.g. Latex\n",
    "\n",
    "$f(x) = \\sqrt(x)$"
   ]
  },
  {
   "cell_type": "code",
   "execution_count": 2,
   "id": "50fe1724",
   "metadata": {},
   "outputs": [],
   "source": [
    "text = \"Hello world\""
   ]
  },
  {
   "cell_type": "code",
   "execution_count": 3,
   "id": "b62d578a",
   "metadata": {},
   "outputs": [
    {
     "data": {
      "text/plain": [
       "str"
      ]
     },
     "execution_count": 3,
     "metadata": {},
     "output_type": "execute_result"
    }
   ],
   "source": [
    "type(text)"
   ]
  },
  {
   "cell_type": "code",
   "execution_count": 4,
   "id": "31a53f0f",
   "metadata": {},
   "outputs": [
    {
     "data": {
      "text/plain": [
       "int"
      ]
     },
     "execution_count": 4,
     "metadata": {},
     "output_type": "execute_result"
    }
   ],
   "source": [
    "integer = 3\n",
    "type(integer)"
   ]
  },
  {
   "cell_type": "code",
   "execution_count": 5,
   "id": "f6b3e951",
   "metadata": {},
   "outputs": [
    {
     "data": {
      "text/plain": [
       "float"
      ]
     },
     "execution_count": 5,
     "metadata": {},
     "output_type": "execute_result"
    }
   ],
   "source": [
    "floating = 2.5\n",
    "type(floating) "
   ]
  },
  {
   "cell_type": "code",
   "execution_count": 6,
   "id": "5705451f",
   "metadata": {},
   "outputs": [
    {
     "data": {
      "text/plain": [
       "float"
      ]
     },
     "execution_count": 6,
     "metadata": {},
     "output_type": "execute_result"
    }
   ],
   "source": [
    "text = 3.0\n",
    "type(text)"
   ]
  },
  {
   "cell_type": "code",
   "execution_count": 7,
   "id": "f95a2532",
   "metadata": {},
   "outputs": [
    {
     "name": "stdout",
     "output_type": "stream",
     "text": [
      "this is true\n"
     ]
    }
   ],
   "source": [
    "if 5 < 6:\n",
    "    print(\"this is true\")\n",
    "else:\n",
    "    print(\"This is flase\")"
   ]
  },
  {
   "cell_type": "code",
   "execution_count": 8,
   "id": "31618aae",
   "metadata": {},
   "outputs": [],
   "source": [
    "something = \"This is a string\""
   ]
  },
  {
   "cell_type": "code",
   "execution_count": 9,
   "id": "13799a59",
   "metadata": {},
   "outputs": [
    {
     "name": "stdout",
     "output_type": "stream",
     "text": [
      "It must be a string\n"
     ]
    }
   ],
   "source": [
    "if something is None:\n",
    "    print(\"This is None\")\n",
    "elif type(something) is not str:\n",
    "    print(\"It must be something else\")\n",
    "else:\n",
    "    print(\"It must be a string\")"
   ]
  },
  {
   "cell_type": "code",
   "execution_count": 10,
   "id": "bc5d9b39",
   "metadata": {},
   "outputs": [],
   "source": [
    "something = 5"
   ]
  },
  {
   "cell_type": "code",
   "execution_count": 11,
   "id": "d4ab322a",
   "metadata": {},
   "outputs": [
    {
     "name": "stdout",
     "output_type": "stream",
     "text": [
      "It must be something else\n"
     ]
    }
   ],
   "source": [
    "if something is None:\n",
    "    print(\"This is None\")\n",
    "elif type(something) is not str:\n",
    "    print(\"It must be something else\")\n",
    "else:\n",
    "    print(\"It must be a string\")"
   ]
  },
  {
   "cell_type": "code",
   "execution_count": 12,
   "id": "c16dece5",
   "metadata": {},
   "outputs": [
    {
     "name": "stdout",
     "output_type": "stream",
     "text": [
      "This is None\n"
     ]
    }
   ],
   "source": [
    "# None is similar to void in C++\n",
    "something = None\n",
    "if something is None:\n",
    "    print(\"This is None\")\n",
    "elif type(something) is not str:\n",
    "    print(\"It must be something else\")\n",
    "else:\n",
    "    print(\"It must be a string\")"
   ]
  },
  {
   "cell_type": "markdown",
   "id": "f2bec718",
   "metadata": {},
   "source": [
    "# Loops"
   ]
  },
  {
   "cell_type": "code",
   "execution_count": 13,
   "id": "157eb9f5",
   "metadata": {},
   "outputs": [
    {
     "name": "stdout",
     "output_type": "stream",
     "text": [
      "hello\n",
      "hello\n",
      "hello\n",
      "hello\n",
      "hello\n"
     ]
    }
   ],
   "source": [
    "for i in range(5):\n",
    "    print(\"hello\")"
   ]
  },
  {
   "cell_type": "code",
   "execution_count": 14,
   "id": "91a36fe3",
   "metadata": {},
   "outputs": [
    {
     "name": "stdout",
     "output_type": "stream",
     "text": [
      "hello 0\n",
      "hello 1\n",
      "hello 2\n",
      "hello 3\n",
      "hello 4\n"
     ]
    }
   ],
   "source": [
    "for i in range(5):\n",
    "    print(f\"hello {i}\") #formatted string. We can interpolate values"
   ]
  },
  {
   "cell_type": "code",
   "execution_count": 15,
   "id": "a84d4225",
   "metadata": {},
   "outputs": [
    {
     "name": "stdout",
     "output_type": "stream",
     "text": [
      "hello 00000\n",
      "hello 00001\n",
      "hello 00002\n",
      "hello 00003\n",
      "hello 00004\n"
     ]
    }
   ],
   "source": [
    "for i in range(5):\n",
    "    print(f\"hello {i:05d}\") # i:05d is format specifiers"
   ]
  },
  {
   "cell_type": "code",
   "execution_count": 16,
   "id": "36e5605e",
   "metadata": {},
   "outputs": [
    {
     "name": "stdout",
     "output_type": "stream",
     "text": [
      "5\n",
      "4\n",
      "3\n"
     ]
    }
   ],
   "source": [
    "b = 5\n",
    "while b > 2:\n",
    "    print(b)\n",
    "    b -= 1\n",
    "    h = 42 # variables created inside loops if statements are in global scope"
   ]
  },
  {
   "cell_type": "code",
   "execution_count": 17,
   "id": "6c289504",
   "metadata": {},
   "outputs": [
    {
     "data": {
      "text/plain": [
       "2"
      ]
     },
     "execution_count": 17,
     "metadata": {},
     "output_type": "execute_result"
    }
   ],
   "source": [
    "b"
   ]
  },
  {
   "cell_type": "code",
   "execution_count": 18,
   "id": "84ebe596",
   "metadata": {},
   "outputs": [
    {
     "data": {
      "text/plain": [
       "42"
      ]
     },
     "execution_count": 18,
     "metadata": {},
     "output_type": "execute_result"
    }
   ],
   "source": [
    "h # global variable since created inside loop"
   ]
  },
  {
   "cell_type": "code",
   "execution_count": 19,
   "id": "8ef5de99",
   "metadata": {},
   "outputs": [],
   "source": [
    "# infinite loop\n",
    "#while True: \n",
    "#    pass"
   ]
  },
  {
   "cell_type": "markdown",
   "id": "f694601a",
   "metadata": {},
   "source": [
    "# Functions"
   ]
  },
  {
   "cell_type": "code",
   "execution_count": 20,
   "id": "e0ec0cdf",
   "metadata": {},
   "outputs": [
    {
     "name": "stdout",
     "output_type": "stream",
     "text": [
      "Hello\n"
     ]
    }
   ],
   "source": [
    "def say_hi():         # : meaning is we are entering a different scope\n",
    "    print(\"Hello\")\n",
    "\n",
    "say_hi()"
   ]
  },
  {
   "cell_type": "code",
   "execution_count": 21,
   "id": "0ce3808a",
   "metadata": {},
   "outputs": [],
   "source": [
    "def greeting():\n",
    "    name = input(\"What is your name?\") # local variable\n",
    "    print(f\"Hello {name}\")\n",
    "    return name"
   ]
  },
  {
   "cell_type": "code",
   "execution_count": 22,
   "id": "976f5219",
   "metadata": {},
   "outputs": [
    {
     "name": "stdout",
     "output_type": "stream",
     "text": [
      "Hello Akash\n"
     ]
    }
   ],
   "source": [
    "returnedName = greeting()"
   ]
  },
  {
   "cell_type": "code",
   "execution_count": 23,
   "id": "8f822f6f",
   "metadata": {},
   "outputs": [
    {
     "data": {
      "text/plain": [
       "'Akash'"
      ]
     },
     "execution_count": 23,
     "metadata": {},
     "output_type": "execute_result"
    }
   ],
   "source": [
    "returnedName"
   ]
  },
  {
   "cell_type": "code",
   "execution_count": 24,
   "id": "219d0f66",
   "metadata": {},
   "outputs": [
    {
     "ename": "NameError",
     "evalue": "name 'name' is not defined",
     "output_type": "error",
     "traceback": [
      "\u001b[1;31m---------------------------------------------------------------------------\u001b[0m",
      "\u001b[1;31mNameError\u001b[0m                                 Traceback (most recent call last)",
      "\u001b[1;32mc:\\Users\\akash\\Documents\\Python\\Learning-Python\\src\\basics.ipynb Cell 27\u001b[0m in \u001b[0;36m<cell line: 1>\u001b[1;34m()\u001b[0m\n\u001b[1;32m----> <a href='vscode-notebook-cell:/c%3A/Users/akash/Documents/Python/Learning-Python/src/basics.ipynb#X35sZmlsZQ%3D%3D?line=0'>1</a>\u001b[0m name\n",
      "\u001b[1;31mNameError\u001b[0m: name 'name' is not defined"
     ]
    }
   ],
   "source": [
    "name # local variable defined inside a function"
   ]
  },
  {
   "cell_type": "code",
   "execution_count": 25,
   "id": "d3af90c8",
   "metadata": {},
   "outputs": [],
   "source": [
    "def add_two(variable):\n",
    "    variable += 2\n",
    "    return variable"
   ]
  },
  {
   "cell_type": "code",
   "execution_count": 26,
   "id": "1acd1cde",
   "metadata": {},
   "outputs": [],
   "source": [
    "b = 2"
   ]
  },
  {
   "cell_type": "code",
   "execution_count": 27,
   "id": "faee5b70",
   "metadata": {},
   "outputs": [
    {
     "data": {
      "text/plain": [
       "4"
      ]
     },
     "execution_count": 27,
     "metadata": {},
     "output_type": "execute_result"
    }
   ],
   "source": [
    "b_add_two = add_two(b)\n",
    "b_add_two"
   ]
  },
  {
   "cell_type": "code",
   "execution_count": 28,
   "id": "20415510",
   "metadata": {},
   "outputs": [
    {
     "data": {
      "text/plain": [
       "2"
      ]
     },
     "execution_count": 28,
     "metadata": {},
     "output_type": "execute_result"
    }
   ],
   "source": [
    "b"
   ]
  },
  {
   "cell_type": "code",
   "execution_count": 29,
   "id": "b950b2a0",
   "metadata": {},
   "outputs": [
    {
     "name": "stdout",
     "output_type": "stream",
     "text": [
      "Variable       Type        Data/Info\n",
      "------------------------------------\n",
      "add_two        function    <function add_two at 0x00000288FC4CC280>\n",
      "b              int         2\n",
      "b_add_two      int         4\n",
      "floating       float       2.5\n",
      "greeting       function    <function greeting at 0x00000288FD04CF70>\n",
      "h              int         42\n",
      "i              int         4\n",
      "integer        int         3\n",
      "os             module      <module 'os' from 'c:\\\\Us<...>datascience\\\\lib\\\\os.py'>\n",
      "returnedName   str         Akash\n",
      "say_hi         function    <function say_hi at 0x00000288FC206670>\n",
      "something      NoneType    None\n",
      "sys            module      <module 'sys' (built-in)>\n",
      "text           float       3.0\n"
     ]
    }
   ],
   "source": [
    "%whos"
   ]
  },
  {
   "cell_type": "code",
   "execution_count": 30,
   "id": "5c0337dc",
   "metadata": {},
   "outputs": [],
   "source": [
    "def add_variables(var_1, var_2, var_3):\n",
    "    return var_1+var_2+var_3"
   ]
  },
  {
   "cell_type": "code",
   "execution_count": 31,
   "id": "df15e057",
   "metadata": {},
   "outputs": [
    {
     "data": {
      "text/plain": [
       "18"
      ]
     },
     "execution_count": 31,
     "metadata": {},
     "output_type": "execute_result"
    }
   ],
   "source": [
    "add_variables(5,6,7)"
   ]
  },
  {
   "cell_type": "code",
   "execution_count": 32,
   "id": "b941d579",
   "metadata": {},
   "outputs": [],
   "source": [
    "def print_strings(first, second):\n",
    "    print(f\"{first}_{second}\")"
   ]
  },
  {
   "cell_type": "code",
   "execution_count": 33,
   "id": "355d4ed6",
   "metadata": {},
   "outputs": [
    {
     "name": "stdout",
     "output_type": "stream",
     "text": [
      "Hello_World\n"
     ]
    }
   ],
   "source": [
    "print_strings(\"Hello\", \"World\") # normal function call"
   ]
  },
  {
   "cell_type": "code",
   "execution_count": 34,
   "id": "0479661e",
   "metadata": {},
   "outputs": [
    {
     "name": "stdout",
     "output_type": "stream",
     "text": [
      "Hello_World\n"
     ]
    }
   ],
   "source": [
    "print_strings(first=\"Hello\", second=\"World\") # function call with named arguments"
   ]
  },
  {
   "cell_type": "code",
   "execution_count": 35,
   "id": "02acf5dc",
   "metadata": {},
   "outputs": [
    {
     "name": "stdout",
     "output_type": "stream",
     "text": [
      "Hello_World\n"
     ]
    }
   ],
   "source": [
    "print_strings(second=\"World\", first=\"Hello\") # function call with named arguments in any order"
   ]
  },
  {
   "cell_type": "code",
   "execution_count": 36,
   "id": "ada222ee",
   "metadata": {},
   "outputs": [
    {
     "name": "stdout",
     "output_type": "stream",
     "text": [
      "Hello_World\n"
     ]
    }
   ],
   "source": [
    "print_strings(\"Hello\", second=\"World\") # named arguments should placed after positional arguments"
   ]
  },
  {
   "cell_type": "code",
   "execution_count": 37,
   "id": "957399d3",
   "metadata": {},
   "outputs": [
    {
     "ename": "SyntaxError",
     "evalue": "positional argument follows keyword argument (3435082393.py, line 1)",
     "output_type": "error",
     "traceback": [
      "\u001b[1;36m  Input \u001b[1;32mIn [37]\u001b[1;36m\u001b[0m\n\u001b[1;33m    print_strings(first=\"Hello\", \"World\") # named arguments should placed after positional arguments\u001b[0m\n\u001b[1;37m                                 ^\u001b[0m\n\u001b[1;31mSyntaxError\u001b[0m\u001b[1;31m:\u001b[0m positional argument follows keyword argument\n"
     ]
    }
   ],
   "source": [
    "print_strings(first=\"Hello\", \"World\") # named arguments should placed after positional arguments"
   ]
  },
  {
   "cell_type": "code",
   "execution_count": 38,
   "id": "2a7246f0",
   "metadata": {},
   "outputs": [],
   "source": [
    "def print_strings_default_values(first=\"Hello\",second=\"World\"):\n",
    "    print(f\"{first}_{second}\")"
   ]
  },
  {
   "cell_type": "code",
   "execution_count": 39,
   "id": "02c22d90",
   "metadata": {},
   "outputs": [
    {
     "name": "stdout",
     "output_type": "stream",
     "text": [
      "Hello_World\n"
     ]
    }
   ],
   "source": [
    "print_strings_default_values()"
   ]
  },
  {
   "cell_type": "code",
   "execution_count": 40,
   "id": "4ed18ed2",
   "metadata": {},
   "outputs": [
    {
     "name": "stdout",
     "output_type": "stream",
     "text": [
      "Akash_Lingaraja\n"
     ]
    }
   ],
   "source": [
    "print_strings_default_values(\"Akash\", \"Lingaraja\")"
   ]
  },
  {
   "cell_type": "code",
   "execution_count": 41,
   "id": "b032c847",
   "metadata": {},
   "outputs": [],
   "source": [
    "def print_additional_args(regular, *args, **kwargs):  # atleast regular argument should be supplied while calling the function \n",
    "    print(regular)\n",
    "    print(args)\n",
    "    print(kwargs)"
   ]
  },
  {
   "cell_type": "code",
   "execution_count": 42,
   "id": "5cad5f06",
   "metadata": {},
   "outputs": [
    {
     "ename": "TypeError",
     "evalue": "print_additional_args() missing 1 required positional argument: 'regular'",
     "output_type": "error",
     "traceback": [
      "\u001b[1;31m---------------------------------------------------------------------------\u001b[0m",
      "\u001b[1;31mTypeError\u001b[0m                                 Traceback (most recent call last)",
      "\u001b[1;32mc:\\Users\\akash\\Documents\\Python\\Learning-Python\\src\\basics.ipynb Cell 45\u001b[0m in \u001b[0;36m<cell line: 1>\u001b[1;34m()\u001b[0m\n\u001b[1;32m----> <a href='vscode-notebook-cell:/c%3A/Users/akash/Documents/Python/Learning-Python/src/basics.ipynb#X62sZmlsZQ%3D%3D?line=0'>1</a>\u001b[0m print_additional_args()\n",
      "\u001b[1;31mTypeError\u001b[0m: print_additional_args() missing 1 required positional argument: 'regular'"
     ]
    }
   ],
   "source": [
    "print_additional_args() "
   ]
  },
  {
   "cell_type": "code",
   "execution_count": 43,
   "id": "adc141fd",
   "metadata": {},
   "outputs": [
    {
     "name": "stdout",
     "output_type": "stream",
     "text": [
      "3.0\n",
      "()\n",
      "{}\n"
     ]
    }
   ],
   "source": [
    "print_additional_args(3.0)"
   ]
  },
  {
   "cell_type": "code",
   "execution_count": 44,
   "id": "e4aa0ccc",
   "metadata": {},
   "outputs": [
    {
     "name": "stdout",
     "output_type": "stream",
     "text": [
      "Python Course\n",
      "(10, 12, 5.9, [3, 5.0, 8])\n",
      "{'something': True, 'something_Else': False}\n"
     ]
    }
   ],
   "source": [
    "print_additional_args(\"Python Course\", 10, 12, 5.9, [3, 5., 8], something=True, something_Else=False)"
   ]
  },
  {
   "cell_type": "markdown",
   "id": "793da208",
   "metadata": {},
   "source": [
    "### Apart from basic data types all other data types are passed by reference"
   ]
  },
  {
   "cell_type": "code",
   "execution_count": 45,
   "id": "6380c0a9",
   "metadata": {},
   "outputs": [],
   "source": [
    "def function_changes_its_arguments(lists):\n",
    "    lists[0] = 2.0"
   ]
  },
  {
   "cell_type": "code",
   "execution_count": 46,
   "id": "efc99592",
   "metadata": {},
   "outputs": [
    {
     "data": {
      "text/plain": [
       "['Hello', 3, True]"
      ]
     },
     "execution_count": 46,
     "metadata": {},
     "output_type": "execute_result"
    }
   ],
   "source": [
    "lists = [\"Hello\", 3, True]\n",
    "lists"
   ]
  },
  {
   "cell_type": "code",
   "execution_count": 47,
   "id": "eb69e646",
   "metadata": {},
   "outputs": [],
   "source": [
    "function_changes_its_arguments(lists)"
   ]
  },
  {
   "cell_type": "code",
   "execution_count": 48,
   "id": "6aef2ea7",
   "metadata": {},
   "outputs": [
    {
     "data": {
      "text/plain": [
       "[2.0, 3, True]"
      ]
     },
     "execution_count": 48,
     "metadata": {},
     "output_type": "execute_result"
    }
   ],
   "source": [
    "lists"
   ]
  },
  {
   "cell_type": "markdown",
   "id": "9802b7d1",
   "metadata": {},
   "source": [
    "### Nested functions"
   ]
  },
  {
   "cell_type": "code",
   "execution_count": 49,
   "id": "16d40dd1",
   "metadata": {},
   "outputs": [
    {
     "name": "stdout",
     "output_type": "stream",
     "text": [
      "I\n",
      "am\n",
      "going\n",
      "to\n",
      "buy\n",
      "milk\n"
     ]
    }
   ],
   "source": [
    "def talk(phrase:str):\n",
    "    def say(word):\n",
    "        print(word)\n",
    "    \n",
    "    words = phrase.split(' ')\n",
    "    for word in words:\n",
    "        say(word)\n",
    "\n",
    "talk(\"I am going to buy milk\")"
   ]
  },
  {
   "cell_type": "code",
   "execution_count": 50,
   "id": "d85e3849",
   "metadata": {},
   "outputs": [
    {
     "name": "stdout",
     "output_type": "stream",
     "text": [
      "1\n"
     ]
    }
   ],
   "source": [
    "def count():\n",
    "    count = 0\n",
    "    \n",
    "    def increment():\n",
    "        nonlocal count  # by using nonlocal keyword we can access variable defined in the outer function\n",
    "        count += 1\n",
    "        print(count)\n",
    "    \n",
    "    increment()\n",
    "    \n",
    "count()"
   ]
  },
  {
   "cell_type": "markdown",
   "id": "f593224b",
   "metadata": {},
   "source": [
    "# Type Hinting"
   ]
  },
  {
   "cell_type": "code",
   "execution_count": 51,
   "id": "4d8c014c",
   "metadata": {},
   "outputs": [],
   "source": [
    "def type_hinted_function(input_str: str) -> str: # types are for hinting and to help intellisense not enforced strictly\n",
    "    print(type(input_str))\n",
    "    modified_str = f\"Hello {input_str}\"\n",
    "    return modified_str"
   ]
  },
  {
   "cell_type": "code",
   "execution_count": 52,
   "id": "e6951009",
   "metadata": {},
   "outputs": [
    {
     "name": "stdout",
     "output_type": "stream",
     "text": [
      "<class 'str'>\n",
      "Hello World\n",
      "<class 'int'>\n",
      "Hello 42\n"
     ]
    }
   ],
   "source": [
    "print(type_hinted_function(\"World\"))\n",
    "print(type_hinted_function(42))"
   ]
  },
  {
   "cell_type": "markdown",
   "id": "4143ace2",
   "metadata": {},
   "source": [
    "# Casting"
   ]
  },
  {
   "cell_type": "code",
   "execution_count": 53,
   "id": "cbbebecd",
   "metadata": {},
   "outputs": [
    {
     "name": "stdout",
     "output_type": "stream",
     "text": [
      "4.007\n"
     ]
    },
    {
     "data": {
      "text/plain": [
       "float"
      ]
     },
     "execution_count": 53,
     "metadata": {},
     "output_type": "execute_result"
    }
   ],
   "source": [
    "g = 4.007\n",
    "print(g)\n",
    "type(g)"
   ]
  },
  {
   "cell_type": "code",
   "execution_count": 54,
   "id": "754128fc",
   "metadata": {},
   "outputs": [
    {
     "name": "stdout",
     "output_type": "stream",
     "text": [
      "4.007\n"
     ]
    },
    {
     "data": {
      "text/plain": [
       "str"
      ]
     },
     "execution_count": 54,
     "metadata": {},
     "output_type": "execute_result"
    }
   ],
   "source": [
    "g_as_str = str(g)\n",
    "print(g_as_str)\n",
    "type(g_as_str)"
   ]
  },
  {
   "cell_type": "code",
   "execution_count": 55,
   "id": "f3a03d17",
   "metadata": {},
   "outputs": [
    {
     "name": "stdout",
     "output_type": "stream",
     "text": [
      "4.007\n"
     ]
    },
    {
     "data": {
      "text/plain": [
       "str"
      ]
     },
     "execution_count": 55,
     "metadata": {},
     "output_type": "execute_result"
    }
   ],
   "source": [
    "h = \"4.007\"\n",
    "print(h)\n",
    "type(h)"
   ]
  },
  {
   "cell_type": "code",
   "execution_count": 56,
   "id": "d85f71c8",
   "metadata": {},
   "outputs": [
    {
     "name": "stdout",
     "output_type": "stream",
     "text": [
      "4.007\n"
     ]
    },
    {
     "data": {
      "text/plain": [
       "float"
      ]
     },
     "execution_count": 56,
     "metadata": {},
     "output_type": "execute_result"
    }
   ],
   "source": [
    "h_as_float = float(h)\n",
    "print(h_as_float)\n",
    "type(h_as_float)"
   ]
  },
  {
   "cell_type": "markdown",
   "id": "41ba5d79",
   "metadata": {},
   "source": [
    "# Simple Math"
   ]
  },
  {
   "cell_type": "code",
   "execution_count": 57,
   "id": "16486f2b",
   "metadata": {},
   "outputs": [
    {
     "data": {
      "text/plain": [
       "3"
      ]
     },
     "execution_count": 57,
     "metadata": {},
     "output_type": "execute_result"
    }
   ],
   "source": [
    "1 +2"
   ]
  },
  {
   "cell_type": "code",
   "execution_count": 58,
   "id": "05b536b6",
   "metadata": {},
   "outputs": [
    {
     "data": {
      "text/plain": [
       "0.5"
      ]
     },
     "execution_count": 58,
     "metadata": {},
     "output_type": "execute_result"
    }
   ],
   "source": [
    "1 / 2"
   ]
  },
  {
   "cell_type": "code",
   "execution_count": 59,
   "id": "b5e0bb96",
   "metadata": {},
   "outputs": [
    {
     "data": {
      "text/plain": [
       "2"
      ]
     },
     "execution_count": 59,
     "metadata": {},
     "output_type": "execute_result"
    }
   ],
   "source": [
    "5 // 2"
   ]
  },
  {
   "cell_type": "code",
   "execution_count": 60,
   "id": "21dcdc19",
   "metadata": {},
   "outputs": [
    {
     "data": {
      "text/plain": [
       "1"
      ]
     },
     "execution_count": 60,
     "metadata": {},
     "output_type": "execute_result"
    }
   ],
   "source": [
    "5 // 3"
   ]
  },
  {
   "cell_type": "code",
   "execution_count": 61,
   "id": "8318f3ef",
   "metadata": {},
   "outputs": [
    {
     "data": {
      "text/plain": [
       "8"
      ]
     },
     "execution_count": 61,
     "metadata": {},
     "output_type": "execute_result"
    }
   ],
   "source": [
    "4 * 2"
   ]
  },
  {
   "cell_type": "code",
   "execution_count": 62,
   "id": "9c86e49d",
   "metadata": {},
   "outputs": [
    {
     "data": {
      "text/plain": [
       "16"
      ]
     },
     "execution_count": 62,
     "metadata": {},
     "output_type": "execute_result"
    }
   ],
   "source": [
    "4 ** 2"
   ]
  },
  {
   "cell_type": "code",
   "execution_count": 63,
   "id": "fb5fa7cf",
   "metadata": {},
   "outputs": [
    {
     "data": {
      "text/plain": [
       "3.0"
      ]
     },
     "execution_count": 63,
     "metadata": {},
     "output_type": "execute_result"
    }
   ],
   "source": [
    "from math import sqrt\n",
    "sqrt(9)"
   ]
  },
  {
   "cell_type": "code",
   "execution_count": 64,
   "id": "dc618bbe",
   "metadata": {},
   "outputs": [
    {
     "data": {
      "text/plain": [
       "3.0"
      ]
     },
     "execution_count": 64,
     "metadata": {},
     "output_type": "execute_result"
    }
   ],
   "source": [
    "9 ** (0.5)"
   ]
  },
  {
   "cell_type": "markdown",
   "id": "0d3b7e3e",
   "metadata": {},
   "source": [
    "# List"
   ]
  },
  {
   "cell_type": "code",
   "execution_count": 65,
   "id": "57628109",
   "metadata": {},
   "outputs": [],
   "source": [
    "# List can be thought of as resizable containers can contain different type of objects"
   ]
  },
  {
   "cell_type": "code",
   "execution_count": 66,
   "id": "8c08ec71",
   "metadata": {},
   "outputs": [
    {
     "data": {
      "text/plain": [
       "['Banana', 'Apple', 'Grapes']"
      ]
     },
     "execution_count": 66,
     "metadata": {},
     "output_type": "execute_result"
    }
   ],
   "source": [
    "fruits = [\"Banana\", \"Apple\", \"Grapes\"]\n",
    "fruits"
   ]
  },
  {
   "cell_type": "code",
   "execution_count": 67,
   "id": "df6d8595",
   "metadata": {},
   "outputs": [
    {
     "name": "stdout",
     "output_type": "stream",
     "text": [
      "Banana\n",
      "Apple\n",
      "Grapes\n"
     ]
    },
    {
     "ename": "IndexError",
     "evalue": "list index out of range",
     "output_type": "error",
     "traceback": [
      "\u001b[1;31m---------------------------------------------------------------------------\u001b[0m",
      "\u001b[1;31mIndexError\u001b[0m                                Traceback (most recent call last)",
      "\u001b[1;32mc:\\Users\\akash\\Documents\\Python\\Learning-Python\\src\\basics.ipynb Cell 76\u001b[0m in \u001b[0;36m<cell line: 4>\u001b[1;34m()\u001b[0m\n\u001b[0;32m      <a href='vscode-notebook-cell:/c%3A/Users/akash/Documents/Python/Learning-Python/src/basics.ipynb#Y135sZmlsZQ%3D%3D?line=1'>2</a>\u001b[0m \u001b[39mprint\u001b[39m(fruits[\u001b[39m1\u001b[39m])\n\u001b[0;32m      <a href='vscode-notebook-cell:/c%3A/Users/akash/Documents/Python/Learning-Python/src/basics.ipynb#Y135sZmlsZQ%3D%3D?line=2'>3</a>\u001b[0m \u001b[39mprint\u001b[39m(fruits[\u001b[39m2\u001b[39m])\n\u001b[1;32m----> <a href='vscode-notebook-cell:/c%3A/Users/akash/Documents/Python/Learning-Python/src/basics.ipynb#Y135sZmlsZQ%3D%3D?line=3'>4</a>\u001b[0m \u001b[39mprint\u001b[39m(fruits[\u001b[39m3\u001b[39;49m])\n",
      "\u001b[1;31mIndexError\u001b[0m: list index out of range"
     ]
    }
   ],
   "source": [
    "print(fruits[0])\n",
    "print(fruits[1])\n",
    "print(fruits[2])\n",
    "print(fruits[3])"
   ]
  },
  {
   "cell_type": "code",
   "execution_count": 68,
   "id": "b5a70926",
   "metadata": {},
   "outputs": [
    {
     "data": {
      "text/plain": [
       "['mango', 'Apple', 'Grapes']"
      ]
     },
     "execution_count": 68,
     "metadata": {},
     "output_type": "execute_result"
    }
   ],
   "source": [
    "fruits[0] = \"mango\"\n",
    "fruits"
   ]
  },
  {
   "cell_type": "code",
   "execution_count": 69,
   "id": "2b0fb7ac",
   "metadata": {},
   "outputs": [
    {
     "data": {
      "text/plain": [
       "['mango', 'Apple', 'Grapes', 'banana']"
      ]
     },
     "execution_count": 69,
     "metadata": {},
     "output_type": "execute_result"
    }
   ],
   "source": [
    "fruits.append(\"banana\")\n",
    "fruits"
   ]
  },
  {
   "cell_type": "code",
   "execution_count": 70,
   "id": "384414b1",
   "metadata": {},
   "outputs": [],
   "source": [
    "vegetables = [\"potato\", \"tomato\"]"
   ]
  },
  {
   "cell_type": "code",
   "execution_count": 71,
   "id": "b7759b6f",
   "metadata": {},
   "outputs": [
    {
     "data": {
      "text/plain": [
       "['mango', 'Apple', 'Grapes', 'banana', 'potato', 'tomato']"
      ]
     },
     "execution_count": 71,
     "metadata": {},
     "output_type": "execute_result"
    }
   ],
   "source": [
    "my_fav = fruits + vegetables\n",
    "my_fav"
   ]
  },
  {
   "cell_type": "code",
   "execution_count": 72,
   "id": "d68bc3e7",
   "metadata": {},
   "outputs": [
    {
     "data": {
      "text/plain": [
       "6"
      ]
     },
     "execution_count": 72,
     "metadata": {},
     "output_type": "execute_result"
    }
   ],
   "source": [
    "len(my_fav)"
   ]
  },
  {
   "cell_type": "code",
   "execution_count": 73,
   "id": "807a138f",
   "metadata": {},
   "outputs": [
    {
     "data": {
      "text/plain": [
       "list"
      ]
     },
     "execution_count": 73,
     "metadata": {},
     "output_type": "execute_result"
    }
   ],
   "source": [
    "lists_of_different_obj = [\"something\", 35, True, \"bleh\", 4.009]\n",
    "type(lists_of_different_obj)"
   ]
  },
  {
   "cell_type": "markdown",
   "id": "8bce91c7",
   "metadata": {},
   "source": [
    "# Dictionaries\n",
    "## Key and value pairs of resizable arbitrary types as long as key is hashable\n",
    "## can only be accesed by keyword "
   ]
  },
  {
   "cell_type": "code",
   "execution_count": 74,
   "id": "8620df62",
   "metadata": {},
   "outputs": [],
   "source": [
    "opinions_on_fruits = { \"apple\": \"Sour and crunchy\", \n",
    "                       \"banana\": \"Sweet an yellow\",\n",
    "                       \"kiwi\": \"Intense and sweet\"}"
   ]
  },
  {
   "cell_type": "code",
   "execution_count": 75,
   "id": "0870537c",
   "metadata": {},
   "outputs": [
    {
     "data": {
      "text/plain": [
       "{'apple': 'Sour and crunchy',\n",
       " 'banana': 'Sweet an yellow',\n",
       " 'kiwi': 'Intense and sweet'}"
      ]
     },
     "execution_count": 75,
     "metadata": {},
     "output_type": "execute_result"
    }
   ],
   "source": [
    "opinions_on_fruits"
   ]
  },
  {
   "cell_type": "code",
   "execution_count": 76,
   "id": "0bf082db",
   "metadata": {},
   "outputs": [
    {
     "data": {
      "text/plain": [
       "'Sweet an yellow'"
      ]
     },
     "execution_count": 76,
     "metadata": {},
     "output_type": "execute_result"
    }
   ],
   "source": [
    "opinions_on_fruits[\"banana\"]"
   ]
  },
  {
   "cell_type": "code",
   "execution_count": 77,
   "id": "a8342899",
   "metadata": {},
   "outputs": [],
   "source": [
    "opinions_on_variables = { 42: \"a number\",\n",
    "                          True: \"a boolean\",\n",
    "                          \"number\": 43.05,\n",
    "                          }"
   ]
  },
  {
   "cell_type": "code",
   "execution_count": 78,
   "id": "6d5ebf79",
   "metadata": {},
   "outputs": [
    {
     "name": "stdout",
     "output_type": "stream",
     "text": [
      "a number\n",
      "a boolean\n",
      "43.05\n"
     ]
    },
    {
     "ename": "KeyError",
     "evalue": "0",
     "output_type": "error",
     "traceback": [
      "\u001b[1;31m---------------------------------------------------------------------------\u001b[0m",
      "\u001b[1;31mKeyError\u001b[0m                                  Traceback (most recent call last)",
      "\u001b[1;32mc:\\Users\\akash\\Documents\\Python\\Learning-Python\\src\\basics.ipynb Cell 88\u001b[0m in \u001b[0;36m<cell line: 4>\u001b[1;34m()\u001b[0m\n\u001b[0;32m      <a href='vscode-notebook-cell:/c%3A/Users/akash/Documents/Python/Learning-Python/src/basics.ipynb#Y153sZmlsZQ%3D%3D?line=1'>2</a>\u001b[0m \u001b[39mprint\u001b[39m(opinions_on_variables[\u001b[39mTrue\u001b[39;00m])\n\u001b[0;32m      <a href='vscode-notebook-cell:/c%3A/Users/akash/Documents/Python/Learning-Python/src/basics.ipynb#Y153sZmlsZQ%3D%3D?line=2'>3</a>\u001b[0m \u001b[39mprint\u001b[39m(opinions_on_variables[\u001b[39m\"\u001b[39m\u001b[39mnumber\u001b[39m\u001b[39m\"\u001b[39m])\n\u001b[1;32m----> <a href='vscode-notebook-cell:/c%3A/Users/akash/Documents/Python/Learning-Python/src/basics.ipynb#Y153sZmlsZQ%3D%3D?line=3'>4</a>\u001b[0m \u001b[39mprint\u001b[39m(opinions_on_variables[\u001b[39m0\u001b[39;49m])\n",
      "\u001b[1;31mKeyError\u001b[0m: 0"
     ]
    }
   ],
   "source": [
    "print(opinions_on_variables[42])\n",
    "print(opinions_on_variables[True])\n",
    "print(opinions_on_variables[\"number\"])\n",
    "print(opinions_on_variables[0])"
   ]
  },
  {
   "cell_type": "code",
   "execution_count": 79,
   "id": "be032de4",
   "metadata": {},
   "outputs": [],
   "source": [
    "options = { \"solver\": {\n",
    "                \"type\": \"rk45\",\n",
    "                \"rtol\": 1.0e4,\n",
    "                \"atol\": 1.0e-4\n",
    "                },\n",
    "            \"saveat\": [0.0, 0.1, 0.2, 0.3, 0.4]\n",
    "           }"
   ]
  },
  {
   "cell_type": "code",
   "execution_count": 80,
   "id": "1c01eccb",
   "metadata": {},
   "outputs": [
    {
     "data": {
      "text/plain": [
       "{'solver': {'type': 'rk45', 'rtol': 10000.0, 'atol': 0.0001},\n",
       " 'saveat': [0.0, 0.1, 0.2, 0.3, 0.4]}"
      ]
     },
     "execution_count": 80,
     "metadata": {},
     "output_type": "execute_result"
    }
   ],
   "source": [
    "options"
   ]
  },
  {
   "cell_type": "code",
   "execution_count": 84,
   "id": "94c50300",
   "metadata": {},
   "outputs": [],
   "source": [
    "options[\"speed\"] = \"fast\""
   ]
  },
  {
   "cell_type": "code",
   "execution_count": 85,
   "id": "cfa33c5e",
   "metadata": {},
   "outputs": [
    {
     "data": {
      "text/plain": [
       "{'solver': {'type': 'rk45', 'rtol': 10000.0, 'atol': 0.0001},\n",
       " 'saveat': [0.0, 0.1, 0.2, 0.3, 0.4],\n",
       " 'speed': 'fast'}"
      ]
     },
     "execution_count": 85,
     "metadata": {},
     "output_type": "execute_result"
    }
   ],
   "source": [
    "options"
   ]
  },
  {
   "cell_type": "code",
   "execution_count": 86,
   "id": "1006c9f4",
   "metadata": {},
   "outputs": [],
   "source": [
    "options[\"solver\"] = \"euler\""
   ]
  },
  {
   "cell_type": "code",
   "execution_count": 87,
   "id": "e6e71f81",
   "metadata": {},
   "outputs": [
    {
     "data": {
      "text/plain": [
       "{'solver': 'euler', 'saveat': [0.0, 0.1, 0.2, 0.3, 0.4], 'speed': 'fast'}"
      ]
     },
     "execution_count": 87,
     "metadata": {},
     "output_type": "execute_result"
    }
   ],
   "source": [
    "options"
   ]
  },
  {
   "cell_type": "code",
   "execution_count": 88,
   "id": "c6762ffa",
   "metadata": {},
   "outputs": [],
   "source": [
    "options = { \"solver\": {\n",
    "                \"type\": \"rk45\",\n",
    "                \"rtol\": 1.0e4,\n",
    "                \"atol\": 1.0e-4\n",
    "                },\n",
    "            \"saveat\": [0.0, 0.1, 0.2, 0.3, 0.4]\n",
    "           }"
   ]
  },
  {
   "cell_type": "code",
   "execution_count": 89,
   "id": "ede937e2",
   "metadata": {},
   "outputs": [
    {
     "data": {
      "text/plain": [
       "{'type': 'rk45', 'rtol': 10000.0, 'atol': 0.0001}"
      ]
     },
     "execution_count": 89,
     "metadata": {},
     "output_type": "execute_result"
    }
   ],
   "source": [
    "options[\"solver\"]"
   ]
  },
  {
   "cell_type": "code",
   "execution_count": 90,
   "id": "deb9bd03",
   "metadata": {},
   "outputs": [
    {
     "data": {
      "text/plain": [
       "'rk45'"
      ]
     },
     "execution_count": 90,
     "metadata": {},
     "output_type": "execute_result"
    }
   ],
   "source": [
    "options[\"solver\"][\"type\"]"
   ]
  },
  {
   "cell_type": "markdown",
   "id": "1c5b499d",
   "metadata": {},
   "source": [
    "# Tuple\n",
    "## fixed size lists"
   ]
  },
  {
   "cell_type": "code",
   "execution_count": 91,
   "id": "3dd90486",
   "metadata": {},
   "outputs": [
    {
     "data": {
      "text/plain": [
       "(1, 2, 3)"
      ]
     },
     "execution_count": 91,
     "metadata": {},
     "output_type": "execute_result"
    }
   ],
   "source": [
    "a_tuple = (1, 2, 3)\n",
    "a_tuple"
   ]
  },
  {
   "cell_type": "code",
   "execution_count": 92,
   "id": "45f67bc0",
   "metadata": {},
   "outputs": [
    {
     "data": {
      "text/plain": [
       "(1, 'jdsj', True)"
      ]
     },
     "execution_count": 92,
     "metadata": {},
     "output_type": "execute_result"
    }
   ],
   "source": [
    "b_tuple = (1, \"jdsj\", True)\n",
    "b_tuple"
   ]
  },
  {
   "cell_type": "code",
   "execution_count": 93,
   "id": "9ee7334a",
   "metadata": {},
   "outputs": [
    {
     "name": "stdout",
     "output_type": "stream",
     "text": [
      "1\n",
      "jdsj\n",
      "True\n"
     ]
    }
   ],
   "source": [
    "print(b_tuple[0])\n",
    "print(b_tuple[1])\n",
    "print(b_tuple[2])"
   ]
  },
  {
   "cell_type": "markdown",
   "id": "eb2883a7",
   "metadata": {},
   "source": [
    "# Iterating over datastructures"
   ]
  },
  {
   "cell_type": "code",
   "execution_count": 94,
   "id": "6c38eaaa",
   "metadata": {},
   "outputs": [],
   "source": [
    "fruits = [\"Banana\", \"Apple\", \"Grapes\"]"
   ]
  },
  {
   "cell_type": "code",
   "execution_count": 95,
   "id": "a7650a17",
   "metadata": {},
   "outputs": [
    {
     "name": "stdout",
     "output_type": "stream",
     "text": [
      "Akash like Banana\n",
      "Akash like Apple\n",
      "Akash like Grapes\n"
     ]
    }
   ],
   "source": [
    "for fruit in fruits:\n",
    "    print(\"Akash like {}\".format(fruit))"
   ]
  },
  {
   "cell_type": "code",
   "execution_count": 96,
   "id": "6ab337be",
   "metadata": {},
   "outputs": [
    {
     "name": "stdout",
     "output_type": "stream",
     "text": [
      "Rank 0 is Banana\n",
      "Rank 1 is Apple\n",
      "Rank 2 is Grapes\n"
     ]
    }
   ],
   "source": [
    "for position, fruit in enumerate(fruits):\n",
    "    print(f\"Rank {position} is {fruit}\")"
   ]
  },
  {
   "cell_type": "code",
   "execution_count": 97,
   "id": "6c0fb110",
   "metadata": {},
   "outputs": [],
   "source": [
    "opinions_on_fruits = { \"apple\": \"Sour and crunchy\", \n",
    "                       \"banana\": \"Sweet an yellow\",\n",
    "                       \"kiwi\": \"Intense and sweet\"}"
   ]
  },
  {
   "cell_type": "code",
   "execution_count": 98,
   "id": "8357cc18",
   "metadata": {},
   "outputs": [
    {
     "name": "stdout",
     "output_type": "stream",
     "text": [
      "About apple someone says Sour and crunchy\n",
      "About banana someone says Sweet an yellow\n",
      "About kiwi someone says Intense and sweet\n"
     ]
    }
   ],
   "source": [
    "for key, value in opinions_on_fruits.items():\n",
    "    print(f\"About {key} someone says {value}\")"
   ]
  },
  {
   "cell_type": "code",
   "execution_count": 99,
   "id": "d72c21ab",
   "metadata": {},
   "outputs": [
    {
     "data": {
      "text/plain": [
       "range(0, 5)"
      ]
     },
     "execution_count": 99,
     "metadata": {},
     "output_type": "execute_result"
    }
   ],
   "source": [
    "range(5) #creates an abstraction for iterable object from 0 to 5"
   ]
  },
  {
   "cell_type": "code",
   "execution_count": 100,
   "id": "a207a7df",
   "metadata": {},
   "outputs": [
    {
     "data": {
      "text/plain": [
       "[0, 1, 2, 3, 4]"
      ]
     },
     "execution_count": 100,
     "metadata": {},
     "output_type": "execute_result"
    }
   ],
   "source": [
    "list(range(5))"
   ]
  },
  {
   "cell_type": "markdown",
   "id": "6c370d64",
   "metadata": {},
   "source": [
    "# Lambdas"
   ]
  },
  {
   "cell_type": "code",
   "execution_count": 101,
   "id": "24cc9ce9",
   "metadata": {},
   "outputs": [],
   "source": [
    "#named lambdas\n",
    "f = lambda x: x**2"
   ]
  },
  {
   "cell_type": "code",
   "execution_count": 102,
   "id": "33ede0b1",
   "metadata": {},
   "outputs": [
    {
     "data": {
      "text/plain": [
       "4"
      ]
     },
     "execution_count": 102,
     "metadata": {},
     "output_type": "execute_result"
    }
   ],
   "source": [
    "f(2)"
   ]
  },
  {
   "cell_type": "code",
   "execution_count": 103,
   "id": "17c87334",
   "metadata": {},
   "outputs": [
    {
     "data": {
      "text/plain": [
       "16.0"
      ]
     },
     "execution_count": 103,
     "metadata": {},
     "output_type": "execute_result"
    }
   ],
   "source": [
    "f(4.0)"
   ]
  },
  {
   "cell_type": "code",
   "execution_count": 104,
   "id": "b3e21551",
   "metadata": {},
   "outputs": [],
   "source": [
    "wrong_capitalisation = [\"baNANA\", \"MANGO\"]"
   ]
  },
  {
   "cell_type": "code",
   "execution_count": 105,
   "id": "c1562160",
   "metadata": {},
   "outputs": [],
   "source": [
    "# deprecated way using anonymous lambda\n",
    "correct_capitalisation = list(map(lambda x: x.capitalize(), wrong_capitalisation))"
   ]
  },
  {
   "cell_type": "code",
   "execution_count": 106,
   "id": "f7a76258",
   "metadata": {},
   "outputs": [
    {
     "data": {
      "text/plain": [
       "['Banana', 'Mango']"
      ]
     },
     "execution_count": 106,
     "metadata": {},
     "output_type": "execute_result"
    }
   ],
   "source": [
    "correct_capitalisation"
   ]
  },
  {
   "cell_type": "code",
   "execution_count": 107,
   "id": "29abf04a",
   "metadata": {},
   "outputs": [],
   "source": [
    "# Recomended way to do this: List comprehension\n",
    "correct_capitalisation_2 = [x.capitalize() for x in wrong_capitalisation]"
   ]
  },
  {
   "cell_type": "code",
   "execution_count": 108,
   "id": "6c95c92a",
   "metadata": {},
   "outputs": [
    {
     "data": {
      "text/plain": [
       "['Banana', 'Mango']"
      ]
     },
     "execution_count": 108,
     "metadata": {},
     "output_type": "execute_result"
    }
   ],
   "source": [
    "correct_capitalisation_2"
   ]
  },
  {
   "cell_type": "markdown",
   "id": "00754a5a",
   "metadata": {},
   "source": [
    "# Importing files"
   ]
  },
  {
   "cell_type": "code",
   "execution_count": 109,
   "id": "941c3a2b",
   "metadata": {},
   "outputs": [],
   "source": [
    "from to_be_imported import crazy_func"
   ]
  },
  {
   "cell_type": "code",
   "execution_count": 110,
   "id": "0d5a714f",
   "metadata": {},
   "outputs": [
    {
     "data": {
      "text/plain": [
       "<function to_be_imported.crazy_func()>"
      ]
     },
     "execution_count": 110,
     "metadata": {},
     "output_type": "execute_result"
    }
   ],
   "source": [
    "crazy_func"
   ]
  },
  {
   "cell_type": "code",
   "execution_count": 111,
   "id": "4453970f",
   "metadata": {},
   "outputs": [
    {
     "name": "stdout",
     "output_type": "stream",
     "text": [
      "Hello World\n"
     ]
    }
   ],
   "source": [
    "crazy_func()"
   ]
  },
  {
   "cell_type": "code",
   "execution_count": 112,
   "id": "4354e193",
   "metadata": {},
   "outputs": [],
   "source": [
    "import to_be_imported"
   ]
  },
  {
   "cell_type": "code",
   "execution_count": 113,
   "id": "39fa1eaf",
   "metadata": {},
   "outputs": [
    {
     "name": "stdout",
     "output_type": "stream",
     "text": [
      "Hello World\n"
     ]
    }
   ],
   "source": [
    "to_be_imported.crazy_func()"
   ]
  },
  {
   "cell_type": "code",
   "execution_count": 114,
   "id": "6bc6944d",
   "metadata": {},
   "outputs": [],
   "source": [
    "import to_be_imported as tbi"
   ]
  },
  {
   "cell_type": "code",
   "execution_count": 115,
   "id": "9352c2e6",
   "metadata": {},
   "outputs": [
    {
     "name": "stdout",
     "output_type": "stream",
     "text": [
      "Hello World\n"
     ]
    }
   ],
   "source": [
    "tbi.crazy_func()"
   ]
  },
  {
   "cell_type": "code",
   "execution_count": 116,
   "id": "36255283",
   "metadata": {},
   "outputs": [],
   "source": [
    "import numpy as np"
   ]
  },
  {
   "cell_type": "markdown",
   "id": "47fbd998",
   "metadata": {},
   "source": [
    "### Importing from nested folders"
   ]
  },
  {
   "cell_type": "code",
   "execution_count": 117,
   "id": "d242f246",
   "metadata": {},
   "outputs": [],
   "source": [
    "from to_be_imported_nested.to_be_imported_nested import crazy_func"
   ]
  },
  {
   "cell_type": "code",
   "execution_count": 118,
   "id": "19cda3ae",
   "metadata": {},
   "outputs": [],
   "source": [
    "import to_be_imported_nested.to_be_imported_nested as tbi"
   ]
  },
  {
   "cell_type": "code",
   "execution_count": 119,
   "id": "ef7f497b",
   "metadata": {},
   "outputs": [
    {
     "name": "stdout",
     "output_type": "stream",
     "text": [
      "Hello World\n"
     ]
    }
   ],
   "source": [
    "tbi.crazy_func()"
   ]
  },
  {
   "cell_type": "markdown",
   "id": "33a6b093",
   "metadata": {},
   "source": [
    "# Closures"
   ]
  },
  {
   "cell_type": "code",
   "execution_count": 120,
   "id": "727aa0d8",
   "metadata": {},
   "outputs": [],
   "source": [
    "def counter():\n",
    "    count = 0\n",
    "    \n",
    "    def increment():\n",
    "        nonlocal count  # by using nonlocal keyword we can access variable defined in the outer function\n",
    "        count += 1\n",
    "        return count\n",
    "    \n",
    "    return increment "
   ]
  },
  {
   "cell_type": "code",
   "execution_count": 121,
   "id": "b5df393b",
   "metadata": {},
   "outputs": [
    {
     "data": {
      "text/plain": [
       "<function __main__.counter.<locals>.increment()>"
      ]
     },
     "execution_count": 121,
     "metadata": {},
     "output_type": "execute_result"
    }
   ],
   "source": [
    "increment = counter()\n",
    "increment"
   ]
  },
  {
   "cell_type": "code",
   "execution_count": 122,
   "id": "a42259d9",
   "metadata": {},
   "outputs": [
    {
     "name": "stdout",
     "output_type": "stream",
     "text": [
      "1\n",
      "2\n",
      "3\n"
     ]
    }
   ],
   "source": [
    "print(increment())\n",
    "print(increment())\n",
    "print(increment())"
   ]
  },
  {
   "cell_type": "markdown",
   "id": "3c4969a2",
   "metadata": {},
   "source": [
    "# map() and filter()"
   ]
  },
  {
   "cell_type": "code",
   "execution_count": 123,
   "id": "fd857f11",
   "metadata": {},
   "outputs": [
    {
     "data": {
      "text/plain": [
       "<map at 0x288fe83edf0>"
      ]
     },
     "execution_count": 123,
     "metadata": {},
     "output_type": "execute_result"
    }
   ],
   "source": [
    "numbers = [1, 2, 3, 4, 5, 6, 7]\n",
    "\n",
    "def double(a):\n",
    "    return a*2\n",
    "\n",
    "result = map(double, numbers)\n",
    "result"
   ]
  },
  {
   "cell_type": "code",
   "execution_count": 124,
   "id": "87738efb",
   "metadata": {},
   "outputs": [
    {
     "name": "stdout",
     "output_type": "stream",
     "text": [
      "<map object at 0x00000288FE83EDF0>\n",
      "[2, 4, 6, 8, 10, 12, 14]\n"
     ]
    }
   ],
   "source": [
    "print(result)\n",
    "print(list(result))"
   ]
  },
  {
   "cell_type": "code",
   "execution_count": 125,
   "id": "6da71265",
   "metadata": {},
   "outputs": [
    {
     "name": "stdout",
     "output_type": "stream",
     "text": [
      "[2, 4, 6, 8, 10, 12, 14]\n"
     ]
    }
   ],
   "source": [
    "result = map(lambda x: x*2, numbers)\n",
    "print(list(result))"
   ]
  },
  {
   "cell_type": "code",
   "execution_count": 126,
   "id": "d9028532",
   "metadata": {},
   "outputs": [
    {
     "name": "stdout",
     "output_type": "stream",
     "text": [
      "[2, 4, 6]\n"
     ]
    }
   ],
   "source": [
    "result = filter(lambda x: x % 2 == 0, numbers)\n",
    "print(list(result))"
   ]
  },
  {
   "cell_type": "markdown",
   "id": "20248f06",
   "metadata": {},
   "source": [
    "# Decorators"
   ]
  },
  {
   "cell_type": "code",
   "execution_count": 127,
   "id": "f131c0e1",
   "metadata": {},
   "outputs": [],
   "source": [
    "def logtime(func):\n",
    "    def wrapper():\n",
    "        print(\"before\")\n",
    "        val =func()\n",
    "        print(\"after\")\n",
    "        return val\n",
    "    return wrapper\n"
   ]
  },
  {
   "cell_type": "code",
   "execution_count": 128,
   "id": "bbbf0127",
   "metadata": {},
   "outputs": [],
   "source": [
    "@logtime\n",
    "def hello():\n",
    "    print(\"hello\")"
   ]
  },
  {
   "cell_type": "code",
   "execution_count": 129,
   "id": "3db3dd79",
   "metadata": {},
   "outputs": [
    {
     "name": "stdout",
     "output_type": "stream",
     "text": [
      "before\n",
      "hello\n",
      "after\n"
     ]
    }
   ],
   "source": [
    "hello()"
   ]
  },
  {
   "cell_type": "markdown",
   "id": "c5f02c28",
   "metadata": {},
   "source": [
    "# Exceptions"
   ]
  },
  {
   "cell_type": "code",
   "execution_count": 130,
   "id": "2830df0d",
   "metadata": {},
   "outputs": [],
   "source": [
    "#try:\n",
    "    #code something here\n",
    "#except <ERROR1>\n",
    "    # handle <ERROR1>\n",
    "#except <ERROR2>\n",
    "    # handle <ERROR2>\n",
    "#except:\n",
    "    # here it will handle any exception error\n",
    "#else:\n",
    "    # if no exceptions are raised this block is executed\n",
    "#finally:\n",
    "    # do something in any case\n"
   ]
  },
  {
   "cell_type": "code",
   "execution_count": 131,
   "id": "09ee90df",
   "metadata": {},
   "outputs": [
    {
     "name": "stdout",
     "output_type": "stream",
     "text": [
      "Cannot divide by zero\n",
      "1\n"
     ]
    }
   ],
   "source": [
    "try:\n",
    "    division_by_zero = 2 / 0\n",
    "except ZeroDivisionError:\n",
    "    print(\"Cannot divide by zero\")\n",
    "finally:\n",
    "    division_by_zero = 1\n",
    "    \n",
    "print(division_by_zero)"
   ]
  },
  {
   "cell_type": "code",
   "execution_count": 132,
   "id": "cd4f7710",
   "metadata": {},
   "outputs": [
    {
     "ename": "Exception",
     "evalue": "An error!",
     "output_type": "error",
     "traceback": [
      "\u001b[1;31m---------------------------------------------------------------------------\u001b[0m",
      "\u001b[1;31mException\u001b[0m                                 Traceback (most recent call last)",
      "\u001b[1;32mc:\\Users\\akash\\Documents\\Python\\Learning-Python\\src\\basics.ipynb Cell 148\u001b[0m in \u001b[0;36m<cell line: 1>\u001b[1;34m()\u001b[0m\n\u001b[1;32m----> <a href='vscode-notebook-cell:/c%3A/Users/akash/Documents/Python/Learning-Python/src/basics.ipynb#Y303sZmlsZQ%3D%3D?line=0'>1</a>\u001b[0m \u001b[39mraise\u001b[39;00m \u001b[39mException\u001b[39;00m(\u001b[39m\"\u001b[39m\u001b[39mAn error!\u001b[39m\u001b[39m\"\u001b[39m)\n",
      "\u001b[1;31mException\u001b[0m: An error!"
     ]
    }
   ],
   "source": [
    "raise Exception(\"An error!\")"
   ]
  },
  {
   "cell_type": "code",
   "execution_count": 133,
   "id": "ae6a6ffc",
   "metadata": {},
   "outputs": [
    {
     "name": "stdout",
     "output_type": "stream",
     "text": [
      "An error!\n"
     ]
    }
   ],
   "source": [
    "try:\n",
    "    raise Exception(\"An error!\")\n",
    "except Exception as error:\n",
    "    print(error)"
   ]
  },
  {
   "cell_type": "code",
   "execution_count": 134,
   "id": "f13b3d37",
   "metadata": {},
   "outputs": [
    {
     "name": "stdout",
     "output_type": "stream",
     "text": [
      "inside\n"
     ]
    }
   ],
   "source": [
    "class DogNotFoundException(Exception):\n",
    "    print(\"inside\")\n",
    "    pass"
   ]
  },
  {
   "cell_type": "code",
   "execution_count": 135,
   "id": "15d29d8b",
   "metadata": {},
   "outputs": [
    {
     "name": "stdout",
     "output_type": "stream",
     "text": [
      "Dog not found\n"
     ]
    }
   ],
   "source": [
    "try:\n",
    "    raise DogNotFoundException()\n",
    "except DogNotFoundException:\n",
    "    print(\"Dog not found\")"
   ]
  },
  {
   "cell_type": "code",
   "execution_count": null,
   "id": "b861cc77",
   "metadata": {},
   "outputs": [],
   "source": []
  }
 ],
 "metadata": {
  "kernelspec": {
   "display_name": "Python 3.8.13 ('datascience')",
   "language": "python",
   "name": "python3"
  },
  "language_info": {
   "codemirror_mode": {
    "name": "ipython",
    "version": 3
   },
   "file_extension": ".py",
   "mimetype": "text/x-python",
   "name": "python",
   "nbconvert_exporter": "python",
   "pygments_lexer": "ipython3",
   "version": "3.8.13"
  },
  "vscode": {
   "interpreter": {
    "hash": "7c6ebc64919cc340340c26f54697882e390967275735b30e7ac606dabf45f492"
   }
  }
 },
 "nbformat": 4,
 "nbformat_minor": 5
}
